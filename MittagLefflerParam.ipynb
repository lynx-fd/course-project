{
 "cells": [
  {
   "cell_type": "code",
   "execution_count": 1,
   "metadata": {},
   "outputs": [
    {
     "name": "stderr",
     "output_type": "stream",
     "text": [
      "Installing package into ‘/srv/rlibs’\n",
      "(as ‘lib’ is unspecified)\n"
     ]
    }
   ],
   "source": [
    "install.packages('MittagLeffleR')\n",
    "library(MittagLeffleR)"
   ]
  },
  {
   "cell_type": "code",
   "execution_count": 2,
   "metadata": {},
   "outputs": [
    {
     "data": {
      "text/html": [
       "<dl class=dl-horizontal>\n",
       "\t<dt>nu</dt>\n",
       "\t\t<dd>0.312657483312865</dd>\n",
       "\t<dt>delta</dt>\n",
       "\t\t<dd>1.4483782721472</dd>\n",
       "\t<dt>nuLo</dt>\n",
       "\t\t<dd>0.288909962914667</dd>\n",
       "\t<dt>nuHi</dt>\n",
       "\t\t<dd>0.336405003711064</dd>\n",
       "\t<dt>deltaLo</dt>\n",
       "\t\t<dd>0.730114818616083</dd>\n",
       "\t<dt>deltaHi</dt>\n",
       "\t\t<dd>2.16664172567831</dd>\n",
       "</dl>\n"
      ],
      "text/latex": [
       "\\begin{description*}\n",
       "\\item[nu] 0.312657483312865\n",
       "\\item[delta] 1.4483782721472\n",
       "\\item[nuLo] 0.288909962914667\n",
       "\\item[nuHi] 0.336405003711064\n",
       "\\item[deltaLo] 0.730114818616083\n",
       "\\item[deltaHi] 2.16664172567831\n",
       "\\end{description*}\n"
      ],
      "text/markdown": [
       "nu\n",
       ":   0.312657483312865delta\n",
       ":   1.4483782721472nuLo\n",
       ":   0.288909962914667nuHi\n",
       ":   0.336405003711064deltaLo\n",
       ":   0.730114818616083deltaHi\n",
       ":   2.16664172567831\n",
       "\n"
      ],
      "text/plain": [
       "       nu     delta      nuLo      nuHi   deltaLo   deltaHi \n",
       "0.3126575 1.4483783 0.2889100 0.3364050 0.7301148 2.1666417 "
      ]
     },
     "metadata": {},
     "output_type": "display_data"
    }
   ],
   "source": [
    "x = rml(500, 0.3)\n",
    "logMomentEstimator(x)"
   ]
  },
  {
   "cell_type": "code",
   "execution_count": 3,
   "metadata": {},
   "outputs": [],
   "source": [
    "dens <- function(alpha) {\n",
    "    function(x) {\n",
    "        (sin(pi*alpha) * x^(alpha - 1)) / (pi * (1 + x^(2*alpha) + 2*x^(alpha)*cos(pi*alpha)))\n",
    "    }\n",
    "}"
   ]
  },
  {
   "cell_type": "code",
   "execution_count": 4,
   "metadata": {},
   "outputs": [
    {
     "data": {
      "image/png": "[encoded data removed]",
      "text/plain": [
       "plot without title"
      ]
     },
     "metadata": {},
     "output_type": "display_data"
    }
   ],
   "source": [
    "t = seq(0.1,10,0.01)\n",
    "plot(t, dens(0.9)(t), type='l')\n",
    "lines(t, dens(0.5)(t))\n",
    "lines(t, dens(0.1)(t))"
   ]
  },
  {
   "cell_type": "code",
   "execution_count": 5,
   "metadata": {},
   "outputs": [],
   "source": [
    "computeG <- function(lambda, w, x) {\n",
    "    n = length(x); k = length(w)\n",
    "    G = matrix(nrow = n, ncol = k)\n",
    "    for (i in 1:n) {\n",
    "        for (j in 1:k) {\n",
    "            G[i,j] = w[j]*lambda[j]*exp(-x[i]*lambda[j])\n",
    "        }\n",
    "        if (sum(G[i,]) != 0) {\n",
    "            G[i,] = G[i,] / sum(G[i,])\n",
    "        }\n",
    "    }\n",
    "    G\n",
    "}"
   ]
  },
  {
   "cell_type": "code",
   "execution_count": 6,
   "metadata": {},
   "outputs": [],
   "source": [
    "EM <- function(x) {\n",
    "    n = length(x)\n",
    "    k = 20\n",
    "    lambda = runif(k, 0, 10)\n",
    "    w = rep(1/k, k)\n",
    "    G = matrix(nrow = n, ncol = k)\n",
    "    iterations = 10\n",
    "    for (i in 1:iterations) {\n",
    "        # computing G\n",
    "        G = computeG(lambda, w, x)\n",
    "        # recomputing weights\n",
    "        w = colSums(G) / n\n",
    "        lambda = colSums(G) / (x %*% G)\n",
    "    }\n",
    "    list(lambda, w)\n",
    "}"
   ]
  },
  {
   "cell_type": "code",
   "execution_count": 7,
   "metadata": {},
   "outputs": [
    {
     "data": {
      "text/html": [
       "<ol>\n",
       "\t<li><table>\n",
       "<tbody>\n",
       "\t<tr><td>0.6422512  </td><td>0.000224032</td><td>3.627749   </td><td>3.997422   </td><td>23.83289   </td><td>4.091678   </td><td>0.03787619 </td><td>42.91239   </td><td>3.779678   </td><td>4.651774   </td><td>0.4195147  </td><td>45.41481   </td><td>30.74355   </td><td>15.71916   </td><td>2.293925   </td><td>2.037959   </td><td>2.423779   </td><td>542.0875   </td><td>3.758995   </td><td>4.670329   </td></tr>\n",
       "</tbody>\n",
       "</table>\n",
       "</li>\n",
       "\t<li><ol class=list-inline>\n",
       "\t<li>0.0650715735662574</li>\n",
       "\t<li>0.0414020509713699</li>\n",
       "\t<li>0.0330732656354197</li>\n",
       "\t<li>0.0315318377946457</li>\n",
       "\t<li>0.0329190312467422</li>\n",
       "\t<li>0.0311551218469516</li>\n",
       "\t<li>0.189304329571957</li>\n",
       "\t<li>0.0334055180178609</li>\n",
       "\t<li>0.0324368400268586</li>\n",
       "\t<li>0.0292547442508475</li>\n",
       "\t<li>0.110715667115303</li>\n",
       "\t<li>0.0334462605289145</li>\n",
       "\t<li>0.0335292269043322</li>\n",
       "\t<li>0.0271140366071774</li>\n",
       "\t<li>0.0372256561683585</li>\n",
       "\t<li>0.0380406199155749</li>\n",
       "\t<li>0.0368668574934462</li>\n",
       "\t<li>0.101780842092559</li>\n",
       "\t<li>0.0325239001321914</li>\n",
       "\t<li>0.0292026201132327</li>\n",
       "</ol>\n",
       "</li>\n",
       "</ol>\n"
      ],
      "text/latex": [
       "\\begin{enumerate}\n",
       "\\item \\begin{tabular}{llllllllllllllllllll}\n",
       "\t 0.6422512   & 0.000224032 & 3.627749    & 3.997422    & 23.83289    & 4.091678    & 0.03787619  & 42.91239    & 3.779678    & 4.651774    & 0.4195147   & 45.41481    & 30.74355    & 15.71916    & 2.293925    & 2.037959    & 2.423779    & 542.0875    & 3.758995    & 4.670329   \\\\\n",
       "\\end{tabular}\n",
       "\n",
       "\\item \\begin{enumerate*}\n",
       "\\item 0.0650715735662574\n",
       "\\item 0.0414020509713699\n",
       "\\item 0.0330732656354197\n",
       "\\item 0.0315318377946457\n",
       "\\item 0.0329190312467422\n",
       "\\item 0.0311551218469516\n",
       "\\item 0.189304329571957\n",
       "\\item 0.0334055180178609\n",
       "\\item 0.0324368400268586\n",
       "\\item 0.0292547442508475\n",
       "\\item 0.110715667115303\n",
       "\\item 0.0334462605289145\n",
       "\\item 0.0335292269043322\n",
       "\\item 0.0271140366071774\n",
       "\\item 0.0372256561683585\n",
       "\\item 0.0380406199155749\n",
       "\\item 0.0368668574934462\n",
       "\\item 0.101780842092559\n",
       "\\item 0.0325239001321914\n",
       "\\item 0.0292026201132327\n",
       "\\end{enumerate*}\n",
       "\n",
       "\\end{enumerate}\n"
      ],
      "text/markdown": [
       "1. \n",
       "| 0.6422512   | 0.000224032 | 3.627749    | 3.997422    | 23.83289    | 4.091678    | 0.03787619  | 42.91239    | 3.779678    | 4.651774    | 0.4195147   | 45.41481    | 30.74355    | 15.71916    | 2.293925    | 2.037959    | 2.423779    | 542.0875    | 3.758995    | 4.670329    | \n",
       "\n",
       "\n",
       "\n",
       "2. 1. 0.0650715735662574\n",
       "2. 0.0414020509713699\n",
       "3. 0.0330732656354197\n",
       "4. 0.0315318377946457\n",
       "5. 0.0329190312467422\n",
       "6. 0.0311551218469516\n",
       "7. 0.189304329571957\n",
       "8. 0.0334055180178609\n",
       "9. 0.0324368400268586\n",
       "10. 0.0292547442508475\n",
       "11. 0.110715667115303\n",
       "12. 0.0334462605289145\n",
       "13. 0.0335292269043322\n",
       "14. 0.0271140366071774\n",
       "15. 0.0372256561683585\n",
       "16. 0.0380406199155749\n",
       "17. 0.0368668574934462\n",
       "18. 0.101780842092559\n",
       "19. 0.0325239001321914\n",
       "20. 0.0292026201132327\n",
       "\n",
       "\n",
       "\n",
       "\n",
       "\n"
      ],
      "text/plain": [
       "[[1]]\n",
       "          [,1]        [,2]     [,3]     [,4]     [,5]     [,6]       [,7]\n",
       "[1,] 0.6422512 0.000224032 3.627749 3.997422 23.83289 4.091678 0.03787619\n",
       "         [,8]     [,9]    [,10]     [,11]    [,12]    [,13]    [,14]    [,15]\n",
       "[1,] 42.91239 3.779678 4.651774 0.4195147 45.41481 30.74355 15.71916 2.293925\n",
       "        [,16]    [,17]    [,18]    [,19]    [,20]\n",
       "[1,] 2.037959 2.423779 542.0875 3.758995 4.670329\n",
       "\n",
       "[[2]]\n",
       " [1] 0.06507157 0.04140205 0.03307327 0.03153184 0.03291903 0.03115512\n",
       " [7] 0.18930433 0.03340552 0.03243684 0.02925474 0.11071567 0.03344626\n",
       "[13] 0.03352923 0.02711404 0.03722566 0.03804062 0.03686686 0.10178084\n",
       "[19] 0.03252390 0.02920262\n"
      ]
     },
     "metadata": {},
     "output_type": "display_data"
    }
   ],
   "source": [
    "n = 100\n",
    "x = rml(n, 0.5)\n",
    "EM(x)"
   ]
  },
  {
   "cell_type": "code",
   "execution_count": null,
   "metadata": {},
   "outputs": [],
   "source": []
  }
 ],
 "metadata": {
  "kernelspec": {
   "display_name": "R",
   "language": "R",
   "name": "ir"
  },
  "language_info": {
   "codemirror_mode": "r",
   "file_extension": ".r",
   "mimetype": "text/x-r-source",
   "name": "R",
   "pygments_lexer": "r",
   "version": "3.4.4"
  }
 },
 "nbformat": 4,
 "nbformat_minor": 2
}
