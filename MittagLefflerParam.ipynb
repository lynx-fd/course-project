{
 "cells": [
  {
   "cell_type": "code",
   "execution_count": 1,
   "metadata": {},
   "outputs": [
    {
     "name": "stderr",
     "output_type": "stream",
     "text": [
      "Installing package into ‘/srv/rlibs’\n",
      "(as ‘lib’ is unspecified)\n",
      "also installing the dependency ‘stabledist’\n",
      "\n"
     ]
    }
   ],
   "source": [
    "install.packages('MittagLeffleR')\n",
    "library(MittagLeffleR)"
   ]
  },
  {
   "cell_type": "code",
   "execution_count": 2,
   "metadata": {},
   "outputs": [
    {
     "data": {
      "text/html": [
       "<dl class=dl-horizontal>\n",
       "\t<dt>nu</dt>\n",
       "\t\t<dd>0.308775012275651</dd>\n",
       "\t<dt>delta</dt>\n",
       "\t\t<dd>0.885889361081712</dd>\n",
       "\t<dt>nuLo</dt>\n",
       "\t\t<dd>0.285303366940174</dd>\n",
       "\t<dt>nuHi</dt>\n",
       "\t\t<dd>0.332246657611129</dd>\n",
       "\t<dt>deltaLo</dt>\n",
       "\t\t<dd>0.440763141594895</dd>\n",
       "\t<dt>deltaHi</dt>\n",
       "\t\t<dd>1.33101558056853</dd>\n",
       "</dl>\n"
      ],
      "text/latex": [
       "\\begin{description*}\n",
       "\\item[nu] 0.308775012275651\n",
       "\\item[delta] 0.885889361081712\n",
       "\\item[nuLo] 0.285303366940174\n",
       "\\item[nuHi] 0.332246657611129\n",
       "\\item[deltaLo] 0.440763141594895\n",
       "\\item[deltaHi] 1.33101558056853\n",
       "\\end{description*}\n"
      ],
      "text/markdown": [
       "nu\n",
       ":   0.308775012275651delta\n",
       ":   0.885889361081712nuLo\n",
       ":   0.285303366940174nuHi\n",
       ":   0.332246657611129deltaLo\n",
       ":   0.440763141594895deltaHi\n",
       ":   1.33101558056853\n",
       "\n"
      ],
      "text/plain": [
       "       nu     delta      nuLo      nuHi   deltaLo   deltaHi \n",
       "0.3087750 0.8858894 0.2853034 0.3322467 0.4407631 1.3310156 "
      ]
     },
     "metadata": {},
     "output_type": "display_data"
    }
   ],
   "source": [
    "x = rml(500, 0.3)\n",
    "logMomentEstimator(x)"
   ]
  },
  {
   "cell_type": "code",
   "execution_count": 2,
   "metadata": {},
   "outputs": [],
   "source": [
    "dens <- function(alpha) {\n",
    "    function(x) {\n",
    "        (sin(pi*alpha) * x^(alpha - 1)) / (pi * (1 + x^(2*alpha) + 2*x^(alpha)*cos(pi*alpha)))\n",
    "    }\n",
    "}"
   ]
  },
  {
   "cell_type": "code",
   "execution_count": 3,
   "metadata": {},
   "outputs": [],
   "source": [
    "computeG <- function(lambda, w, x) {\n",
    "    n = length(x); k = length(w)\n",
    "    G = matrix(nrow = n, ncol = k)\n",
    "    for (i in 1:n) {\n",
    "        for (j in 1:k) {\n",
    "            G[i,j] = w[j]*lambda[j]*exp(-x[i]*lambda[j])\n",
    "        }\n",
    "        if (sum(G[i,]) > 0) {\n",
    "            G[i,] = G[i,] / sum(G[i,])\n",
    "        }\n",
    "    }\n",
    "    G\n",
    "}"
   ]
  },
  {
   "cell_type": "code",
   "execution_count": 4,
   "metadata": {},
   "outputs": [],
   "source": [
    "hist <- function(data) {\n",
    "    k = length(data[,1])\n",
    "    lambda = data[,1]\n",
    "    w = data[,2]\n",
    "    knots = rep(0, k+1)\n",
    "    values = rep(0, k+2)\n",
    "    for (i in 2:k) {\n",
    "        knots[i] = (lambda[i-1] + lambda[i]) / 2\n",
    "    }\n",
    "    knots[1] = if (2 * lambda[1] - knots[2] > 0) 2 * lambda[1] - knots[2] else 0\n",
    "    knots[k+1] = 2 * lambda[k] - knots[k]\n",
    "    for (i in 1:k) {\n",
    "        values[i+1] = w[i] / (knots[i+1] - knots[i])\n",
    "    }\n",
    "    stepfun(knots, values)\n",
    "}"
   ]
  },
  {
   "cell_type": "code",
   "execution_count": 5,
   "metadata": {},
   "outputs": [],
   "source": [
    "EM <- function(x) {\n",
    "    n = length(x)\n",
    "    k = 50\n",
    "    lambda = quantile(x,seq(1/(2*k),1-1/(2*k),1/k))\n",
    "    w = rep(1/k, k)\n",
    "    G = matrix(0L, nrow = n, ncol = k)\n",
    "    iterations = 0\n",
    "    tau = 0.001\n",
    "    repeat {\n",
    "        G0 = G\n",
    "        # computing G\n",
    "        G = computeG(lambda, w, x)\n",
    "        # recomputing weights\n",
    "        w = ifelse(colSums(G) / n - tau > 0, colSums(G) / n - tau, 0)\n",
    "        w = w / sum(w)\n",
    "        lambda = colSums(G) / (x %*% G)\n",
    "        iterations = iterations + 1\n",
    "        # exit\n",
    "        if ((max(abs(G0-G)) < 0.001)) {\n",
    "            break\n",
    "        }\n",
    "        if (length(which(w == 0)) > 0) {\n",
    "            lambda = lambda[-which(w == 0)]\n",
    "            G = G[,-which(w == 0)]\n",
    "            w = w[-which(w == 0)]\n",
    "        }\n",
    "    }\n",
    "    print(iterations)\n",
    "    lambda = t(lambda)\n",
    "    #hist(cbind(lambda, w)[order(lambda),])\n",
    "    cbind(lambda, w)[order(lambda),]\n",
    "}"
   ]
  },
  {
   "cell_type": "code",
   "execution_count": 9,
   "metadata": {},
   "outputs": [
    {
     "name": "stdout",
     "output_type": "stream",
     "text": [
      "[1] 779\n"
     ]
    }
   ],
   "source": [
    "n = 1000\n",
    "x = rml(n, 0.9)\n",
    "est = EM(x)"
   ]
  },
  {
   "cell_type": "code",
   "execution_count": 8,
   "metadata": {},
   "outputs": [],
   "source": [
    "# estimation of mittag leffler distribution density\n",
    "est = EM(x)\n",
    "lambda = est[,1]\n",
    "w = est[,2]\n",
    "est_ml_dense <- function(x) {\n",
    "    sapply(x, function(a) w %*% (lambda * exp(-a*lambda)))\n",
    "}"
   ]
  },
  {
   "cell_type": "code",
   "execution_count": 102,
   "metadata": {},
   "outputs": [],
   "source": [
    "EM_fixedlambdas <- function(x) {\n",
    "    n = length(x)\n",
    "    k = 10\n",
    "    lambda = seq(0.1,10,9.9/k)\n",
    "    w = rep(1/k, k)\n",
    "    G = matrix(0L, nrow = n, ncol = k)\n",
    "    iterations = 0\n",
    "    repeat {\n",
    "        G0 = G\n",
    "        # computing G\n",
    "        G = computeG(lambda, w, x)\n",
    "        # recomputing weights\n",
    "        w = colSums(G) / n\n",
    "        #lambda = colSums(G) / (x %*% G)\n",
    "        iterations = iterations + 1\n",
    "        # exit\n",
    "        if ((max(abs(G0-G)) < 1e-4)) {\n",
    "            break\n",
    "        }\n",
    "    }\n",
    "    print(iterations)\n",
    "    #lambda = t(lambda)\n",
    "    #hist(cbind(lambda, w)[order(lambda),])\n",
    "    cbind(lambda, w)\n",
    "}"
   ]
  },
  {
   "cell_type": "code",
   "execution_count": 91,
   "metadata": {},
   "outputs": [],
   "source": [
    "weights <- function(lambda, alpha) {\n",
    "    k = length(lambda)\n",
    "    knots = rep(0, k)\n",
    "    for (i in 2:k) {\n",
    "        knots[i] = (lambda[i-1] + lambda[i]) / 2\n",
    "    }\n",
    "    knots[1] = if (2 * lambda[1] - knots[2] > 0) 2 * lambda[1] - knots[2] else 0\n",
    "    w = rep(0, k)\n",
    "    sum = 0\n",
    "    for (i in 1:(k-1)) {\n",
    "        w[i] = integrate(dens(alpha),knots[i],knots[i+1])[[1]]\n",
    "        sum = sum + w[[i]]\n",
    "    }\n",
    "    w[k] = 1 - sum\n",
    "    w\n",
    "}"
   ]
  },
  {
   "cell_type": "code",
   "execution_count": 106,
   "metadata": {},
   "outputs": [
    {
     "name": "stdout",
     "output_type": "stream",
     "text": [
      "[1] 470\n"
     ]
    },
    {
     "name": "stderr",
     "output_type": "stream",
     "text": [
      "Warning message in cbind(lambda, w):\n",
      "“number of rows of result is not a multiple of vector length (arg 2)”"
     ]
    },
    {
     "data": {
      "image/png": "[encoded data removed]",
      "text/plain": [
       "plot without title"
      ]
     },
     "metadata": {},
     "output_type": "display_data"
    }
   ],
   "source": [
    "n = 100\n",
    "x = rml(n, 0.7)\n",
    "est = EM_fixedlambdas(x)\n",
    "plot(est)\n",
    "lambda = est[,1]\n",
    "w = weights(lambda,0.7)\n",
    "points(lambda, w, col=2)"
   ]
  },
  {
   "cell_type": "code",
   "execution_count": null,
   "metadata": {},
   "outputs": [],
   "source": []
  }
 ],
 "metadata": {
  "kernelspec": {
   "display_name": "R",
   "language": "R",
   "name": "ir"
  },
  "language_info": {
   "codemirror_mode": "r",
   "file_extension": ".r",
   "mimetype": "text/x-r-source",
   "name": "R",
   "pygments_lexer": "r",
   "version": "3.4.4"
  }
 },
 "nbformat": 4,
 "nbformat_minor": 2
}
